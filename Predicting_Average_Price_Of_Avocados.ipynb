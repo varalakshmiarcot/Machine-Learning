{
  "nbformat": 4,
  "nbformat_minor": 0,
  "metadata": {
    "colab": {
      "name": "Predicting_Average_Price_Of_Avocados.ipynb",
      "provenance": [],
      "collapsed_sections": [],
      "toc_visible": true,
      "include_colab_link": true
    },
    "kernelspec": {
      "name": "python3",
      "display_name": "Python 3"
    }
  },
  "cells": [
    {
      "cell_type": "markdown",
      "metadata": {
        "id": "view-in-github",
        "colab_type": "text"
      },
      "source": [
        "<a href=\"https://colab.research.google.com/github/varalakshmiarcot/Machine-Learning/blob/master/Predicting_Average_Price_Of_Avocados.ipynb\" target=\"_parent\"><img src=\"https://colab.research.google.com/assets/colab-badge.svg\" alt=\"Open In Colab\"/></a>"
      ]
    },
    {
      "cell_type": "markdown",
      "metadata": {
        "id": "3atlEz05CVWU",
        "colab_type": "text"
      },
      "source": [
        "# Predicting Average Price Of Avocados"
      ]
    },
    {
      "cell_type": "markdown",
      "metadata": {
        "id": "FlqioqbFCpLy",
        "colab_type": "text"
      },
      "source": [
        "## Table of Content\n",
        "1. [Problem Statement](#secyion1)<br>\n",
        "2. [Data Loading and Description](#section2)<br>\n",
        "3. [Exploratory Data Analysis](#section3)<br>\n",
        "4. [Feature Engineering on the categorical Features : region and type](#section4)<br>\n",
        "5. [Try with Decisiontree Regressor Model](#section4)<br>\n",
        "6. [Try with RandomForestRegressor](#section5)<br>"
      ]
    },
    {
      "cell_type": "markdown",
      "metadata": {
        "id": "ZXquvdnBDGtJ",
        "colab_type": "text"
      },
      "source": [
        "## 1.Problem Statement\n",
        "Predict the Avocado’s Average Price based on different features. \n"
      ]
    },
    {
      "cell_type": "markdown",
      "metadata": {
        "id": "lM2gCN3EFPRZ",
        "colab_type": "text"
      },
      "source": [
        "## 2.Data Loading and Description\n",
        "The Columns in Dataset are:\n",
        "   - Date - The date of the observation\n",
        "   - AveragePrice - the average price of a single                        avocado\n",
        "   - type - conventional or organic\n",
        "   - year - the year\n",
        "   - Region - the city or region of the observation\n",
        "   - Total Volume - Total number of avocados sold\n",
        "   - 4046 - Total number of avocados with PLU 4046 sold\n",
        "   - 4225 - Total number of avocados with PLU 4225 sold\n",
        "   - 4770 - Total number of avocados with PLU 4770 sold"
      ]
    },
    {
      "cell_type": "markdown",
      "metadata": {
        "id": "lEV5n02uGNRs",
        "colab_type": "text"
      },
      "source": [
        "#### Importing Packages"
      ]
    },
    {
      "cell_type": "code",
      "metadata": {
        "id": "O6pX_FSj794z",
        "colab_type": "code",
        "colab": {}
      },
      "source": [
        "import numpy as np\n",
        "import pandas as pd\n",
        "import pandas_profiling\n",
        "import matplotlib.pyplot as plt\n",
        "import seaborn as sns\n",
        "%matplotlib inline"
      ],
      "execution_count": 0,
      "outputs": []
    },
    {
      "cell_type": "markdown",
      "metadata": {
        "id": "bMmUtd_YGdoi",
        "colab_type": "text"
      },
      "source": [
        "#### Importing the Dataset"
      ]
    },
    {
      "cell_type": "code",
      "metadata": {
        "id": "zNXt8-is8HQL",
        "colab_type": "code",
        "outputId": "97f4383b-9fa3-4dc4-81cf-00e758c83a5d",
        "colab": {
          "base_uri": "https://localhost:8080/",
          "height": 322
        }
      },
      "source": [
        "df_avocado = pd.read_csv(\"https://raw.githubusercontent.com/insaid2018/Term-2/master/Projects/avocado.csv\")\n",
        "df_avocado.head(5)"
      ],
      "execution_count": 0,
      "outputs": [
        {
          "output_type": "execute_result",
          "data": {
            "text/html": [
              "<div>\n",
              "<style scoped>\n",
              "    .dataframe tbody tr th:only-of-type {\n",
              "        vertical-align: middle;\n",
              "    }\n",
              "\n",
              "    .dataframe tbody tr th {\n",
              "        vertical-align: top;\n",
              "    }\n",
              "\n",
              "    .dataframe thead th {\n",
              "        text-align: right;\n",
              "    }\n",
              "</style>\n",
              "<table border=\"1\" class=\"dataframe\">\n",
              "  <thead>\n",
              "    <tr style=\"text-align: right;\">\n",
              "      <th></th>\n",
              "      <th>Unnamed: 0</th>\n",
              "      <th>Date</th>\n",
              "      <th>AveragePrice</th>\n",
              "      <th>Total Volume</th>\n",
              "      <th>4046</th>\n",
              "      <th>4225</th>\n",
              "      <th>4770</th>\n",
              "      <th>Total Bags</th>\n",
              "      <th>Small Bags</th>\n",
              "      <th>Large Bags</th>\n",
              "      <th>XLarge Bags</th>\n",
              "      <th>type</th>\n",
              "      <th>year</th>\n",
              "      <th>region</th>\n",
              "    </tr>\n",
              "  </thead>\n",
              "  <tbody>\n",
              "    <tr>\n",
              "      <th>0</th>\n",
              "      <td>0</td>\n",
              "      <td>2015-12-27</td>\n",
              "      <td>1.33</td>\n",
              "      <td>64236.62</td>\n",
              "      <td>1036.74</td>\n",
              "      <td>54454.85</td>\n",
              "      <td>48.16</td>\n",
              "      <td>8696.87</td>\n",
              "      <td>8603.62</td>\n",
              "      <td>93.25</td>\n",
              "      <td>0.0</td>\n",
              "      <td>conventional</td>\n",
              "      <td>2015</td>\n",
              "      <td>Albany</td>\n",
              "    </tr>\n",
              "    <tr>\n",
              "      <th>1</th>\n",
              "      <td>1</td>\n",
              "      <td>2015-12-20</td>\n",
              "      <td>1.35</td>\n",
              "      <td>54876.98</td>\n",
              "      <td>674.28</td>\n",
              "      <td>44638.81</td>\n",
              "      <td>58.33</td>\n",
              "      <td>9505.56</td>\n",
              "      <td>9408.07</td>\n",
              "      <td>97.49</td>\n",
              "      <td>0.0</td>\n",
              "      <td>conventional</td>\n",
              "      <td>2015</td>\n",
              "      <td>Albany</td>\n",
              "    </tr>\n",
              "    <tr>\n",
              "      <th>2</th>\n",
              "      <td>2</td>\n",
              "      <td>2015-12-13</td>\n",
              "      <td>0.93</td>\n",
              "      <td>118220.22</td>\n",
              "      <td>794.70</td>\n",
              "      <td>109149.67</td>\n",
              "      <td>130.50</td>\n",
              "      <td>8145.35</td>\n",
              "      <td>8042.21</td>\n",
              "      <td>103.14</td>\n",
              "      <td>0.0</td>\n",
              "      <td>conventional</td>\n",
              "      <td>2015</td>\n",
              "      <td>Albany</td>\n",
              "    </tr>\n",
              "    <tr>\n",
              "      <th>3</th>\n",
              "      <td>3</td>\n",
              "      <td>2015-12-06</td>\n",
              "      <td>1.08</td>\n",
              "      <td>78992.15</td>\n",
              "      <td>1132.00</td>\n",
              "      <td>71976.41</td>\n",
              "      <td>72.58</td>\n",
              "      <td>5811.16</td>\n",
              "      <td>5677.40</td>\n",
              "      <td>133.76</td>\n",
              "      <td>0.0</td>\n",
              "      <td>conventional</td>\n",
              "      <td>2015</td>\n",
              "      <td>Albany</td>\n",
              "    </tr>\n",
              "    <tr>\n",
              "      <th>4</th>\n",
              "      <td>4</td>\n",
              "      <td>2015-11-29</td>\n",
              "      <td>1.28</td>\n",
              "      <td>51039.60</td>\n",
              "      <td>941.48</td>\n",
              "      <td>43838.39</td>\n",
              "      <td>75.78</td>\n",
              "      <td>6183.95</td>\n",
              "      <td>5986.26</td>\n",
              "      <td>197.69</td>\n",
              "      <td>0.0</td>\n",
              "      <td>conventional</td>\n",
              "      <td>2015</td>\n",
              "      <td>Albany</td>\n",
              "    </tr>\n",
              "  </tbody>\n",
              "</table>\n",
              "</div>"
            ],
            "text/plain": [
              "   Unnamed: 0        Date  AveragePrice  ...          type  year  region\n",
              "0           0  2015-12-27          1.33  ...  conventional  2015  Albany\n",
              "1           1  2015-12-20          1.35  ...  conventional  2015  Albany\n",
              "2           2  2015-12-13          0.93  ...  conventional  2015  Albany\n",
              "3           3  2015-12-06          1.08  ...  conventional  2015  Albany\n",
              "4           4  2015-11-29          1.28  ...  conventional  2015  Albany\n",
              "\n",
              "[5 rows x 14 columns]"
            ]
          },
          "metadata": {
            "tags": []
          },
          "execution_count": 23
        }
      ]
    },
    {
      "cell_type": "markdown",
      "metadata": {
        "id": "RIS4XBXGGpvK",
        "colab_type": "text"
      },
      "source": [
        "The variables in dataset are:\n",
        "- Categorical: ‘region’,’type’\n",
        "- Date: ‘Date’\n",
        "- Numerical:‘Unamed: 0’,’Total Volume’, ‘4046’, ‘4225’, ‘4770’, ‘Total Bags’, ‘Small Bags’,’Large Bags’,’XLarge Bags’,’Year’\n",
        "- Target:‘AveragePrice’"
      ]
    },
    {
      "cell_type": "markdown",
      "metadata": {
        "id": "R39rFLIFIPsP",
        "colab_type": "text"
      },
      "source": [
        "## 3. Exploratory Data Analysis"
      ]
    },
    {
      "cell_type": "markdown",
      "metadata": {
        "id": "C7X2wE8uIKFp",
        "colab_type": "text"
      },
      "source": [
        "The Feature \"Unnamed:0\" is just a representation of the indexes,lets remove it."
      ]
    },
    {
      "cell_type": "code",
      "metadata": {
        "id": "wR1khiny-9vg",
        "colab_type": "code",
        "colab": {}
      },
      "source": [
        "df_avocado.drop('Unnamed: 0',axis=1,inplace=True)"
      ],
      "execution_count": 0,
      "outputs": []
    },
    {
      "cell_type": "code",
      "metadata": {
        "id": "ubdaoS_x8hpI",
        "colab_type": "code",
        "outputId": "a2a31cd5-d52e-4caa-921e-9ecfba0be7fc",
        "colab": {
          "base_uri": "https://localhost:8080/",
          "height": 35
        }
      },
      "source": [
        "df_avocado.shape"
      ],
      "execution_count": 0,
      "outputs": [
        {
          "output_type": "execute_result",
          "data": {
            "text/plain": [
              "(18249, 13)"
            ]
          },
          "metadata": {
            "tags": []
          },
          "execution_count": 25
        }
      ]
    },
    {
      "cell_type": "code",
      "metadata": {
        "id": "a9l1cUja9QRq",
        "colab_type": "code",
        "outputId": "7e229087-cc77-4626-d5d8-f57316c051a1",
        "colab": {
          "base_uri": "https://localhost:8080/",
          "height": 345
        }
      },
      "source": [
        "df_avocado.info()"
      ],
      "execution_count": 0,
      "outputs": [
        {
          "output_type": "stream",
          "text": [
            "<class 'pandas.core.frame.DataFrame'>\n",
            "RangeIndex: 18249 entries, 0 to 18248\n",
            "Data columns (total 13 columns):\n",
            "Date            18249 non-null object\n",
            "AveragePrice    18249 non-null float64\n",
            "Total Volume    18249 non-null float64\n",
            "4046            18249 non-null float64\n",
            "4225            18249 non-null float64\n",
            "4770            18249 non-null float64\n",
            "Total Bags      18249 non-null float64\n",
            "Small Bags      18249 non-null float64\n",
            "Large Bags      18249 non-null float64\n",
            "XLarge Bags     18249 non-null float64\n",
            "type            18249 non-null object\n",
            "year            18249 non-null int64\n",
            "region          18249 non-null object\n",
            "dtypes: float64(9), int64(1), object(3)\n",
            "memory usage: 1.8+ MB\n"
          ],
          "name": "stdout"
        }
      ]
    },
    {
      "cell_type": "code",
      "metadata": {
        "id": "S0c6Ti3p9wJU",
        "colab_type": "code",
        "outputId": "13b762c7-e7ce-41d0-d6cc-9123a3156325",
        "colab": {
          "base_uri": "https://localhost:8080/",
          "height": 272
        }
      },
      "source": [
        "df_avocado.isnull().sum()"
      ],
      "execution_count": 0,
      "outputs": [
        {
          "output_type": "execute_result",
          "data": {
            "text/plain": [
              "Date            0\n",
              "AveragePrice    0\n",
              "Total Volume    0\n",
              "4046            0\n",
              "4225            0\n",
              "4770            0\n",
              "Total Bags      0\n",
              "Small Bags      0\n",
              "Large Bags      0\n",
              "XLarge Bags     0\n",
              "type            0\n",
              "year            0\n",
              "region          0\n",
              "dtype: int64"
            ]
          },
          "metadata": {
            "tags": []
          },
          "execution_count": 13
        }
      ]
    },
    {
      "cell_type": "markdown",
      "metadata": {
        "id": "ic4_66B7JWH0",
        "colab_type": "text"
      },
      "source": [
        "Avocado Dataset dont have missing values"
      ]
    },
    {
      "cell_type": "markdown",
      "metadata": {
        "id": "kKGf-cT5JjUm",
        "colab_type": "text"
      },
      "source": [
        "#### Extacting Month and Day values from Date Column"
      ]
    },
    {
      "cell_type": "code",
      "metadata": {
        "id": "azYMlZ47-BfL",
        "colab_type": "code",
        "colab": {}
      },
      "source": [
        "df_avocado['Date']=pd.to_datetime(df_avocado['Date'])\n",
        "df_avocado['Month']=df_avocado['Date'].apply(lambda x:x.month)\n",
        "df_avocado['Day']=df_avocado['Date'].apply(lambda x:x.day)"
      ],
      "execution_count": 0,
      "outputs": []
    },
    {
      "cell_type": "code",
      "metadata": {
        "id": "kmb3A7A8_0qp",
        "colab_type": "code",
        "outputId": "a5c64809-4dce-426a-997f-749c753cc9fa",
        "colab": {
          "base_uri": "https://localhost:8080/",
          "height": 322
        }
      },
      "source": [
        "df_avocado.head()"
      ],
      "execution_count": 0,
      "outputs": [
        {
          "output_type": "execute_result",
          "data": {
            "text/html": [
              "<div>\n",
              "<style scoped>\n",
              "    .dataframe tbody tr th:only-of-type {\n",
              "        vertical-align: middle;\n",
              "    }\n",
              "\n",
              "    .dataframe tbody tr th {\n",
              "        vertical-align: top;\n",
              "    }\n",
              "\n",
              "    .dataframe thead th {\n",
              "        text-align: right;\n",
              "    }\n",
              "</style>\n",
              "<table border=\"1\" class=\"dataframe\">\n",
              "  <thead>\n",
              "    <tr style=\"text-align: right;\">\n",
              "      <th></th>\n",
              "      <th>Date</th>\n",
              "      <th>AveragePrice</th>\n",
              "      <th>Total Volume</th>\n",
              "      <th>4046</th>\n",
              "      <th>4225</th>\n",
              "      <th>4770</th>\n",
              "      <th>Total Bags</th>\n",
              "      <th>Small Bags</th>\n",
              "      <th>Large Bags</th>\n",
              "      <th>XLarge Bags</th>\n",
              "      <th>type</th>\n",
              "      <th>year</th>\n",
              "      <th>region</th>\n",
              "    </tr>\n",
              "  </thead>\n",
              "  <tbody>\n",
              "    <tr>\n",
              "      <th>0</th>\n",
              "      <td>2015-12-27</td>\n",
              "      <td>1.33</td>\n",
              "      <td>64236.62</td>\n",
              "      <td>1036.74</td>\n",
              "      <td>54454.85</td>\n",
              "      <td>48.16</td>\n",
              "      <td>8696.87</td>\n",
              "      <td>8603.62</td>\n",
              "      <td>93.25</td>\n",
              "      <td>0.0</td>\n",
              "      <td>conventional</td>\n",
              "      <td>2015</td>\n",
              "      <td>Albany</td>\n",
              "    </tr>\n",
              "    <tr>\n",
              "      <th>1</th>\n",
              "      <td>2015-12-20</td>\n",
              "      <td>1.35</td>\n",
              "      <td>54876.98</td>\n",
              "      <td>674.28</td>\n",
              "      <td>44638.81</td>\n",
              "      <td>58.33</td>\n",
              "      <td>9505.56</td>\n",
              "      <td>9408.07</td>\n",
              "      <td>97.49</td>\n",
              "      <td>0.0</td>\n",
              "      <td>conventional</td>\n",
              "      <td>2015</td>\n",
              "      <td>Albany</td>\n",
              "    </tr>\n",
              "    <tr>\n",
              "      <th>2</th>\n",
              "      <td>2015-12-13</td>\n",
              "      <td>0.93</td>\n",
              "      <td>118220.22</td>\n",
              "      <td>794.70</td>\n",
              "      <td>109149.67</td>\n",
              "      <td>130.50</td>\n",
              "      <td>8145.35</td>\n",
              "      <td>8042.21</td>\n",
              "      <td>103.14</td>\n",
              "      <td>0.0</td>\n",
              "      <td>conventional</td>\n",
              "      <td>2015</td>\n",
              "      <td>Albany</td>\n",
              "    </tr>\n",
              "    <tr>\n",
              "      <th>3</th>\n",
              "      <td>2015-12-06</td>\n",
              "      <td>1.08</td>\n",
              "      <td>78992.15</td>\n",
              "      <td>1132.00</td>\n",
              "      <td>71976.41</td>\n",
              "      <td>72.58</td>\n",
              "      <td>5811.16</td>\n",
              "      <td>5677.40</td>\n",
              "      <td>133.76</td>\n",
              "      <td>0.0</td>\n",
              "      <td>conventional</td>\n",
              "      <td>2015</td>\n",
              "      <td>Albany</td>\n",
              "    </tr>\n",
              "    <tr>\n",
              "      <th>4</th>\n",
              "      <td>2015-11-29</td>\n",
              "      <td>1.28</td>\n",
              "      <td>51039.60</td>\n",
              "      <td>941.48</td>\n",
              "      <td>43838.39</td>\n",
              "      <td>75.78</td>\n",
              "      <td>6183.95</td>\n",
              "      <td>5986.26</td>\n",
              "      <td>197.69</td>\n",
              "      <td>0.0</td>\n",
              "      <td>conventional</td>\n",
              "      <td>2015</td>\n",
              "      <td>Albany</td>\n",
              "    </tr>\n",
              "  </tbody>\n",
              "</table>\n",
              "</div>"
            ],
            "text/plain": [
              "         Date  AveragePrice  Total Volume  ...          type  year  region\n",
              "0  2015-12-27          1.33      64236.62  ...  conventional  2015  Albany\n",
              "1  2015-12-20          1.35      54876.98  ...  conventional  2015  Albany\n",
              "2  2015-12-13          0.93     118220.22  ...  conventional  2015  Albany\n",
              "3  2015-12-06          1.08      78992.15  ...  conventional  2015  Albany\n",
              "4  2015-11-29          1.28      51039.60  ...  conventional  2015  Albany\n",
              "\n",
              "[5 rows x 13 columns]"
            ]
          },
          "metadata": {
            "tags": []
          },
          "execution_count": 27
        }
      ]
    },
    {
      "cell_type": "markdown",
      "metadata": {
        "id": "2h2mEbJMKGb2",
        "colab_type": "text"
      },
      "source": [
        "#### Distribution of Features"
      ]
    },
    {
      "cell_type": "markdown",
      "metadata": {
        "id": "ZslSWpsBJ3BA",
        "colab_type": "text"
      },
      "source": [
        "Plotting the Avocado's Average Price through the Date column"
      ]
    },
    {
      "cell_type": "code",
      "metadata": {
        "id": "0A3F5h5J_5_E",
        "colab_type": "code",
        "outputId": "84560e51-da0f-4bbf-ab18-e5b476289398",
        "colab": {
          "base_uri": "https://localhost:8080/",
          "height": 531
        }
      },
      "source": [
        "PurchaseDate = df_avocado.groupby('Date').mean()\n",
        "plt.figure(figsize=(12,8))\n",
        "PurchaseDate['AveragePrice'].plot()\n",
        "plt.title('Average Price Of Avocado')"
      ],
      "execution_count": 0,
      "outputs": [
        {
          "output_type": "execute_result",
          "data": {
            "text/plain": [
              "Text(0.5, 1.0, 'Average Price Of Avocado')"
            ]
          },
          "metadata": {
            "tags": []
          },
          "execution_count": 28
        },
        {
          "output_type": "display_data",
          "data": {
            "image/png": "[encoded data removed]",
            "text/plain": [
              "<Figure size 864x576 with 1 Axes>"
            ]
          },
          "metadata": {
            "tags": []
          }
        }
      ]
    },
    {
      "cell_type": "markdown",
      "metadata": {
        "id": "huRwQcMfKSio",
        "colab_type": "text"
      },
      "source": [
        "#### Correlation Of features using heatmap"
      ]
    },
    {
      "cell_type": "code",
      "metadata": {
        "id": "iEs2sHanAoVS",
        "colab_type": "code",
        "outputId": "3c1df1dd-aeba-48f8-ec54-9277a7ae5670",
        "colab": {
          "base_uri": "https://localhost:8080/",
          "height": 452
        }
      },
      "source": [
        "plt.figure(figsize=(12,6))\n",
        "sns.heatmap(df_avocado.corr(),cmap='coolwarm',annot=True)"
      ],
      "execution_count": 0,
      "outputs": [
        {
          "output_type": "execute_result",
          "data": {
            "text/plain": [
              "<matplotlib.axes._subplots.AxesSubplot at 0x7fb07cd116d8>"
            ]
          },
          "metadata": {
            "tags": []
          },
          "execution_count": 29
        },
        {
          "output_type": "display_data",
          "data": {
            "image/png": "[encoded data removed]",
            "text/plain": [
              "<Figure size 864x432 with 2 Axes>"
            ]
          },
          "metadata": {
            "tags": []
          }
        }
      ]
    },
    {
      "cell_type": "markdown",
      "metadata": {
        "id": "aeYto6r0KYYH",
        "colab_type": "text"
      },
      "source": [
        "All the Features are not correlated with the Average Price, instead most of them are correlated with each other. "
      ]
    },
    {
      "cell_type": "markdown",
      "metadata": {
        "id": "SilOEgUBKrcf",
        "colab_type": "text"
      },
      "source": [
        "### Feature Engineering on the categorical Features : region and type"
      ]
    },
    {
      "cell_type": "code",
      "metadata": {
        "id": "HUg1CKjvK00n",
        "colab_type": "code",
        "outputId": "ee642307-c9be-4d39-c07f-a59b8c1fa07a",
        "colab": {
          "base_uri": "https://localhost:8080/",
          "height": 35
        }
      },
      "source": [
        "df_avocado['region'].nunique()"
      ],
      "execution_count": 0,
      "outputs": [
        {
          "output_type": "execute_result",
          "data": {
            "text/plain": [
              "54"
            ]
          },
          "metadata": {
            "tags": []
          },
          "execution_count": 30
        }
      ]
    },
    {
      "cell_type": "code",
      "metadata": {
        "id": "GGiS9pLWLHvP",
        "colab_type": "code",
        "outputId": "ecf92293-25de-42f1-e182-2adb991a6a95",
        "colab": {
          "base_uri": "https://localhost:8080/",
          "height": 35
        }
      },
      "source": [
        "df_avocado['type'].nunique()"
      ],
      "execution_count": 0,
      "outputs": [
        {
          "output_type": "execute_result",
          "data": {
            "text/plain": [
              "2"
            ]
          },
          "metadata": {
            "tags": []
          },
          "execution_count": 31
        }
      ]
    },
    {
      "cell_type": "markdown",
      "metadata": {
        "id": "tX7yTG1sLSuu",
        "colab_type": "text"
      },
      "source": [
        " we have 54 regions and 2 unique types, so it's going to be easy to to transform the type feature to dummies, but for the region, its complex to do so I decided to drop the entire column. I will drop the Date Feature as well because I already have 3 other columns for the Year, Month and Day."
      ]
    },
    {
      "cell_type": "code",
      "metadata": {
        "id": "Jd0VDmapLqU-",
        "colab_type": "code",
        "colab": {}
      },
      "source": [
        "df_avocadosfinal=pd.get_dummies(df_avocado.drop(['region','Date'],axis=1),drop_first=True)"
      ],
      "execution_count": 0,
      "outputs": []
    },
    {
      "cell_type": "code",
      "metadata": {
        "id": "CEFBuDeJS8Mw",
        "colab_type": "code",
        "outputId": "89952d66-8988-4454-a6a5-74560b28a49a",
        "colab": {
          "base_uri": "https://localhost:8080/",
          "height": 215
        }
      },
      "source": [
        "df_avocadosfinal.head()"
      ],
      "execution_count": 0,
      "outputs": [
        {
          "output_type": "execute_result",
          "data": {
            "text/html": [
              "<div>\n",
              "<style scoped>\n",
              "    .dataframe tbody tr th:only-of-type {\n",
              "        vertical-align: middle;\n",
              "    }\n",
              "\n",
              "    .dataframe tbody tr th {\n",
              "        vertical-align: top;\n",
              "    }\n",
              "\n",
              "    .dataframe thead th {\n",
              "        text-align: right;\n",
              "    }\n",
              "</style>\n",
              "<table border=\"1\" class=\"dataframe\">\n",
              "  <thead>\n",
              "    <tr style=\"text-align: right;\">\n",
              "      <th></th>\n",
              "      <th>AveragePrice</th>\n",
              "      <th>Total Volume</th>\n",
              "      <th>4046</th>\n",
              "      <th>4225</th>\n",
              "      <th>4770</th>\n",
              "      <th>Total Bags</th>\n",
              "      <th>Small Bags</th>\n",
              "      <th>Large Bags</th>\n",
              "      <th>XLarge Bags</th>\n",
              "      <th>year</th>\n",
              "      <th>type_organic</th>\n",
              "    </tr>\n",
              "  </thead>\n",
              "  <tbody>\n",
              "    <tr>\n",
              "      <th>0</th>\n",
              "      <td>1.33</td>\n",
              "      <td>64236.62</td>\n",
              "      <td>1036.74</td>\n",
              "      <td>54454.85</td>\n",
              "      <td>48.16</td>\n",
              "      <td>8696.87</td>\n",
              "      <td>8603.62</td>\n",
              "      <td>93.25</td>\n",
              "      <td>0.0</td>\n",
              "      <td>2015</td>\n",
              "      <td>0</td>\n",
              "    </tr>\n",
              "    <tr>\n",
              "      <th>1</th>\n",
              "      <td>1.35</td>\n",
              "      <td>54876.98</td>\n",
              "      <td>674.28</td>\n",
              "      <td>44638.81</td>\n",
              "      <td>58.33</td>\n",
              "      <td>9505.56</td>\n",
              "      <td>9408.07</td>\n",
              "      <td>97.49</td>\n",
              "      <td>0.0</td>\n",
              "      <td>2015</td>\n",
              "      <td>0</td>\n",
              "    </tr>\n",
              "    <tr>\n",
              "      <th>2</th>\n",
              "      <td>0.93</td>\n",
              "      <td>118220.22</td>\n",
              "      <td>794.70</td>\n",
              "      <td>109149.67</td>\n",
              "      <td>130.50</td>\n",
              "      <td>8145.35</td>\n",
              "      <td>8042.21</td>\n",
              "      <td>103.14</td>\n",
              "      <td>0.0</td>\n",
              "      <td>2015</td>\n",
              "      <td>0</td>\n",
              "    </tr>\n",
              "    <tr>\n",
              "      <th>3</th>\n",
              "      <td>1.08</td>\n",
              "      <td>78992.15</td>\n",
              "      <td>1132.00</td>\n",
              "      <td>71976.41</td>\n",
              "      <td>72.58</td>\n",
              "      <td>5811.16</td>\n",
              "      <td>5677.40</td>\n",
              "      <td>133.76</td>\n",
              "      <td>0.0</td>\n",
              "      <td>2015</td>\n",
              "      <td>0</td>\n",
              "    </tr>\n",
              "    <tr>\n",
              "      <th>4</th>\n",
              "      <td>1.28</td>\n",
              "      <td>51039.60</td>\n",
              "      <td>941.48</td>\n",
              "      <td>43838.39</td>\n",
              "      <td>75.78</td>\n",
              "      <td>6183.95</td>\n",
              "      <td>5986.26</td>\n",
              "      <td>197.69</td>\n",
              "      <td>0.0</td>\n",
              "      <td>2015</td>\n",
              "      <td>0</td>\n",
              "    </tr>\n",
              "  </tbody>\n",
              "</table>\n",
              "</div>"
            ],
            "text/plain": [
              "   AveragePrice  Total Volume     4046  ...  XLarge Bags  year  type_organic\n",
              "0          1.33      64236.62  1036.74  ...          0.0  2015             0\n",
              "1          1.35      54876.98   674.28  ...          0.0  2015             0\n",
              "2          0.93     118220.22   794.70  ...          0.0  2015             0\n",
              "3          1.08      78992.15  1132.00  ...          0.0  2015             0\n",
              "4          1.28      51039.60   941.48  ...          0.0  2015             0\n",
              "\n",
              "[5 rows x 11 columns]"
            ]
          },
          "metadata": {
            "tags": []
          },
          "execution_count": 34
        }
      ]
    },
    {
      "cell_type": "markdown",
      "metadata": {
        "id": "7wedH4Y-TN_X",
        "colab_type": "text"
      },
      "source": [
        "Here Target variable 'AveragePrice is continuous, appliying Linear Regression model.Let's now begin to train out regression model! We will need to first split up our data into an X train that contains the features to train on, and a y trainwith the target variable"
      ]
    },
    {
      "cell_type": "code",
      "metadata": {
        "id": "kRtcPs3FTqGe",
        "colab_type": "code",
        "colab": {}
      },
      "source": [
        "X=df_avocadosfinal.iloc[:,1:14]\n",
        "y=df_avocadosfinal['AveragePrice']\n",
        "from sklearn.model_selection import train_test_split\n",
        "X_train,X_test,y_train,y_test=train_test_split(X,y,test_size=0.2,random_state=42)"
      ],
      "execution_count": 0,
      "outputs": []
    },
    {
      "cell_type": "code",
      "metadata": {
        "id": "TXVVb0joUSVl",
        "colab_type": "code",
        "outputId": "e31f7a80-3f92-4868-ed7a-fa6f90a29d13",
        "colab": {
          "base_uri": "https://localhost:8080/",
          "height": 272
        }
      },
      "source": [
        "print(X)"
      ],
      "execution_count": 0,
      "outputs": [
        {
          "output_type": "stream",
          "text": [
            "       Total Volume     4046       4225  ...  XLarge Bags  year  type_organic\n",
            "0          64236.62  1036.74   54454.85  ...          0.0  2015             0\n",
            "1          54876.98   674.28   44638.81  ...          0.0  2015             0\n",
            "2         118220.22   794.70  109149.67  ...          0.0  2015             0\n",
            "3          78992.15  1132.00   71976.41  ...          0.0  2015             0\n",
            "4          51039.60   941.48   43838.39  ...          0.0  2015             0\n",
            "...             ...      ...        ...  ...          ...   ...           ...\n",
            "18244      17074.83  2046.96    1529.20  ...          0.0  2018             1\n",
            "18245      13888.04  1191.70    3431.50  ...          0.0  2018             1\n",
            "18246      13766.76  1191.92    2452.79  ...          0.0  2018             1\n",
            "18247      16205.22  1527.63    2981.04  ...          0.0  2018             1\n",
            "18248      17489.58  2894.77    2356.13  ...          0.0  2018             1\n",
            "\n",
            "[18249 rows x 10 columns]\n"
          ],
          "name": "stdout"
        }
      ]
    },
    {
      "cell_type": "code",
      "metadata": {
        "id": "hZhIrxjdUWsH",
        "colab_type": "code",
        "outputId": "6c272c9b-d627-4bd4-b58d-19fc0d6c0808",
        "colab": {
          "base_uri": "https://localhost:8080/",
          "height": 235
        }
      },
      "source": [
        "print(y)"
      ],
      "execution_count": 0,
      "outputs": [
        {
          "output_type": "stream",
          "text": [
            "0        1.33\n",
            "1        1.35\n",
            "2        0.93\n",
            "3        1.08\n",
            "4        1.28\n",
            "         ... \n",
            "18244    1.63\n",
            "18245    1.71\n",
            "18246    1.87\n",
            "18247    1.93\n",
            "18248    1.62\n",
            "Name: AveragePrice, Length: 18249, dtype: float64\n"
          ],
          "name": "stdout"
        }
      ]
    },
    {
      "cell_type": "code",
      "metadata": {
        "id": "G8H-AJAOUmZn",
        "colab_type": "code",
        "outputId": "59bf217b-79e9-4561-e41e-f59d8e9d5505",
        "colab": {
          "base_uri": "https://localhost:8080/",
          "height": 145
        }
      },
      "source": [
        "print('Train cases as below')\n",
        "print('X_train shape: ',X_train.shape)\n",
        "print('y_train shape: ',y_train.shape)\n",
        "print('\\nTest cases as below')\n",
        "print('X_test shape: ',X_test.shape)\n",
        "print('y_test shape: ',y_test.shape)"
      ],
      "execution_count": 0,
      "outputs": [
        {
          "output_type": "stream",
          "text": [
            "Train cases as below\n",
            "X_train shape:  (14599, 10)\n",
            "y_train shape:  (14599,)\n",
            "\n",
            "Test cases as below\n",
            "X_test shape:  (3650, 10)\n",
            "y_test shape:  (3650,)\n"
          ],
          "name": "stdout"
        }
      ]
    },
    {
      "cell_type": "code",
      "metadata": {
        "id": "IZw-vnHPU5K2",
        "colab_type": "code",
        "outputId": "c01cab11-8d58-44c3-b226-98388098c055",
        "colab": {
          "base_uri": "https://localhost:8080/",
          "height": 110
        }
      },
      "source": [
        "X_train.to_csv(\"datasump_xtrain.csv\") \n",
        "X_test.to_csv(\"datasump_xtest.csv\") \n",
        "y_train.to_csv(\"datasump_ytrain.csv\")\n",
        "y_test.to_csv(\"datasump_ytest.csv\")"
      ],
      "execution_count": 0,
      "outputs": [
        {
          "output_type": "stream",
          "text": [
            "/usr/local/lib/python3.6/dist-packages/ipykernel_launcher.py:3: FutureWarning: The signature of `Series.to_csv` was aligned to that of `DataFrame.to_csv`, and argument 'header' will change its default value from False to True: please pass an explicit value to suppress this warning.\n",
            "  This is separate from the ipykernel package so we can avoid doing imports until\n",
            "/usr/local/lib/python3.6/dist-packages/ipykernel_launcher.py:4: FutureWarning: The signature of `Series.to_csv` was aligned to that of `DataFrame.to_csv`, and argument 'header' will change its default value from False to True: please pass an explicit value to suppress this warning.\n",
            "  after removing the cwd from sys.path.\n"
          ],
          "name": "stderr"
        }
      ]
    },
    {
      "cell_type": "markdown",
      "metadata": {
        "id": "5rjbmYg6T8pN",
        "colab_type": "text"
      },
      "source": [
        "#### Creating and Training the model using Linear Regressor"
      ]
    },
    {
      "cell_type": "code",
      "metadata": {
        "id": "LiA_i3ugUCPq",
        "colab_type": "code",
        "colab": {}
      },
      "source": [
        "from sklearn.linear_model import LinearRegression\n",
        "lr=LinearRegression()\n",
        "lr.fit(X_train,y_train)\n",
        "pred=lr.predict(X_test)"
      ],
      "execution_count": 0,
      "outputs": []
    },
    {
      "cell_type": "markdown",
      "metadata": {
        "id": "79Zkm-YaVyq3",
        "colab_type": "text"
      },
      "source": [
        "#### Model Evoluation"
      ]
    },
    {
      "cell_type": "code",
      "metadata": {
        "id": "9B9UYK9pVF_F",
        "colab_type": "code",
        "outputId": "77bc10bb-888d-4359-f59c-3d56a97d348a",
        "colab": {
          "base_uri": "https://localhost:8080/",
          "height": 72
        }
      },
      "source": [
        "from sklearn import metrics\n",
        "print('MAE:', metrics.mean_absolute_error(y_test, pred))\n",
        "print('MSE:', metrics.mean_squared_error(y_test, pred))\n",
        "print('RMSE:', np.sqrt(metrics.mean_squared_error(y_test, pred)))"
      ],
      "execution_count": 0,
      "outputs": [
        {
          "output_type": "stream",
          "text": [
            "MAE: 0.24097655032688603\n",
            "MSE: 0.09760990350811949\n",
            "RMSE: 0.3124258368127058\n"
          ],
          "name": "stdout"
        }
      ]
    },
    {
      "cell_type": "markdown",
      "metadata": {
        "id": "MALPmtGGVMjW",
        "colab_type": "text"
      },
      "source": [
        "The RMSE is low so we can say that we do have a good model"
      ]
    },
    {
      "cell_type": "markdown",
      "metadata": {
        "id": "355p_nJOVYwZ",
        "colab_type": "text"
      },
      "source": [
        "#### Plotting the y_test vs the predictions"
      ]
    },
    {
      "cell_type": "code",
      "metadata": {
        "id": "YHQoj7NNVgBM",
        "colab_type": "code",
        "outputId": "edb7e1f3-01c8-4134-8846-e9fa5ccde741",
        "colab": {
          "base_uri": "https://localhost:8080/",
          "height": 297
        }
      },
      "source": [
        "plt.scatter(x=y_test,y=pred)\n",
        "plt.xlabel('Y Test')\n",
        "plt.ylabel('Predicted Y')"
      ],
      "execution_count": 0,
      "outputs": [
        {
          "output_type": "execute_result",
          "data": {
            "text/plain": [
              "Text(0, 0.5, 'Predicted Y')"
            ]
          },
          "metadata": {
            "tags": []
          },
          "execution_count": 45
        },
        {
          "output_type": "display_data",
          "data": {
            "image/png": "[encoded data removed]",
            "text/plain": [
              "<Figure size 432x288 with 1 Axes>"
            ]
          },
          "metadata": {
            "tags": []
          }
        }
      ]
    },
    {
      "cell_type": "markdown",
      "metadata": {
        "id": "_Q2sb_BGWLRN",
        "colab_type": "text"
      },
      "source": [
        "As we can see that we dont have a straight line so its not best model for this data"
      ]
    },
    {
      "cell_type": "markdown",
      "metadata": {
        "id": "T5QZs3RxWock",
        "colab_type": "text"
      },
      "source": [
        "## Try with Decision Tree Regressor Model"
      ]
    },
    {
      "cell_type": "code",
      "metadata": {
        "id": "C8W9KxX6W2d5",
        "colab_type": "code",
        "colab": {}
      },
      "source": [
        "from sklearn.tree import DecisionTreeRegressor\n",
        "dt=DecisionTreeRegressor()\n",
        "dt.fit(X_train,y_train)\n",
        "pred=dt.predict(X_test)"
      ],
      "execution_count": 0,
      "outputs": []
    },
    {
      "cell_type": "markdown",
      "metadata": {
        "id": "y0tpngvHXEVe",
        "colab_type": "text"
      },
      "source": [
        "#### Plotting the y_test vs the predictions"
      ]
    },
    {
      "cell_type": "code",
      "metadata": {
        "id": "18KBc5f1XLe0",
        "colab_type": "code",
        "outputId": "1ff99503-3eaf-438a-cd63-65ad01cf175a",
        "colab": {
          "base_uri": "https://localhost:8080/",
          "height": 297
        }
      },
      "source": [
        "plt.scatter(x=y_test,y=pred)\n",
        "plt.xlabel('Y Test')\n",
        "plt.ylabel('Predicted Y')"
      ],
      "execution_count": 0,
      "outputs": [
        {
          "output_type": "execute_result",
          "data": {
            "text/plain": [
              "Text(0, 0.5, 'Predicted Y')"
            ]
          },
          "metadata": {
            "tags": []
          },
          "execution_count": 47
        },
        {
          "output_type": "display_data",
          "data": {
            "image/png": "[encoded data removed]",
            "text/plain": [
              "<Figure size 432x288 with 1 Axes>"
            ]
          },
          "metadata": {
            "tags": []
          }
        }
      ]
    },
    {
      "cell_type": "markdown",
      "metadata": {
        "id": "S_7ldk-_XTIk",
        "colab_type": "text"
      },
      "source": [
        "Here we can see that a straigt line, in other words its better than the Linear regression model, and  lets check the RMSE"
      ]
    },
    {
      "cell_type": "code",
      "metadata": {
        "id": "MTWs7yFvXk2g",
        "colab_type": "code",
        "outputId": "f6b3acd4-955a-4ee1-8d2d-12ddf2ea11c4",
        "colab": {
          "base_uri": "https://localhost:8080/",
          "height": 72
        }
      },
      "source": [
        "print('MAE:', metrics.mean_absolute_error(y_test, pred))\n",
        "print('MSE:', metrics.mean_squared_error(y_test, pred))\n",
        "print('RMSE:', np.sqrt(metrics.mean_squared_error(y_test, pred)))"
      ],
      "execution_count": 0,
      "outputs": [
        {
          "output_type": "stream",
          "text": [
            "MAE: 0.1574849315068493\n",
            "MSE: 0.06095819178082191\n",
            "RMSE: 0.24689712793149682\n"
          ],
          "name": "stdout"
        }
      ]
    },
    {
      "cell_type": "markdown",
      "metadata": {
        "id": "KPvJlA9iXoQV",
        "colab_type": "text"
      },
      "source": [
        "Here RMSE is lower than the previous one we got with Linear Regression."
      ]
    },
    {
      "cell_type": "markdown",
      "metadata": {
        "id": "eUyQuYNaXwC6",
        "colab_type": "text"
      },
      "source": [
        "## Try with Random Forest Regressor"
      ]
    },
    {
      "cell_type": "code",
      "metadata": {
        "id": "qT6KTo4aX6io",
        "colab_type": "code",
        "colab": {}
      },
      "source": [
        "from sklearn.ensemble import RandomForestRegressor\n",
        "randomReg = RandomForestRegressor()\n",
        "randomReg.fit(X_train,y_train)\n",
        "pred=randomReg.predict(X_test)"
      ],
      "execution_count": 0,
      "outputs": []
    },
    {
      "cell_type": "markdown",
      "metadata": {
        "id": "rv45E7BPYF5G",
        "colab_type": "text"
      },
      "source": [
        "Checking the Metrics"
      ]
    },
    {
      "cell_type": "code",
      "metadata": {
        "id": "0SeYQ7sLYK31",
        "colab_type": "code",
        "outputId": "a70e2564-8813-4140-d2f2-5f1b91dbe647",
        "colab": {
          "base_uri": "https://localhost:8080/",
          "height": 72
        }
      },
      "source": [
        "print('MAE:', metrics.mean_absolute_error(y_test, pred))\n",
        "print('MSE:', metrics.mean_squared_error(y_test, pred))\n",
        "print('RMSE:', np.sqrt(metrics.mean_squared_error(y_test, pred)))"
      ],
      "execution_count": 0,
      "outputs": [
        {
          "output_type": "stream",
          "text": [
            "MAE: 0.12286871232876714\n",
            "MSE: 0.03165048276712328\n",
            "RMSE: 0.17790582555701565\n"
          ],
          "name": "stdout"
        }
      ]
    },
    {
      "cell_type": "markdown",
      "metadata": {
        "id": "YN-Fg8mbYMzt",
        "colab_type": "text"
      },
      "source": [
        "Here RMSE is lower than the two previous models, so the RandomForest Regressor is the best model in this case."
      ]
    },
    {
      "cell_type": "markdown",
      "metadata": {
        "id": "DPDfvu42YjaQ",
        "colab_type": "text"
      },
      "source": [
        "#### Plotting the y_test and y_predictions"
      ]
    },
    {
      "cell_type": "code",
      "metadata": {
        "id": "xFM3xCZRYoz1",
        "colab_type": "code",
        "outputId": "db2380e1-fcc2-4733-d0cd-8008a647ff53",
        "colab": {
          "base_uri": "https://localhost:8080/",
          "height": 297
        }
      },
      "source": [
        "sns.distplot((y_test-pred),bins=50)\n",
        "plt.xlabel('Y Test')\n",
        "plt.ylabel('Predicted Y')"
      ],
      "execution_count": 0,
      "outputs": [
        {
          "output_type": "execute_result",
          "data": {
            "text/plain": [
              "Text(0, 0.5, 'Predicted Y')"
            ]
          },
          "metadata": {
            "tags": []
          },
          "execution_count": 53
        },
        {
          "output_type": "display_data",
          "data": {
            "image/png": "[encoded data removed]",
            "text/plain": [
              "<Figure size 432x288 with 1 Axes>"
            ]
          },
          "metadata": {
            "tags": []
          }
        }
      ]
    },
    {
      "cell_type": "markdown",
      "metadata": {
        "id": "WjMDr4kOZ_ua",
        "colab_type": "text"
      },
      "source": [
        "Here that residuals looked to be normally distributed and that's really a good sign which means that Randomforest model was a correct choice for the data."
      ]
    },
    {
      "cell_type": "markdown",
      "metadata": {
        "id": "XIrRJbh8aotq",
        "colab_type": "text"
      },
      "source": [
        "## Y_test and predicted data using Randomforest Alogorithm"
      ]
    },
    {
      "cell_type": "code",
      "metadata": {
        "id": "64N75stDaxf-",
        "colab_type": "code",
        "outputId": "e95dd5a7-a480-4221-bdf6-68846e1f72f8",
        "colab": {
          "base_uri": "https://localhost:8080/",
          "height": 550
        }
      },
      "source": [
        "data = pd.DataFrame({'Y Test':y_test , 'Pred':pred},columns=['Y Test','Pred'])\n",
        "sns.lmplot(x='Y Test',y='Pred',data=data,palette='rainbow')\n",
        "data.head()"
      ],
      "execution_count": 0,
      "outputs": [
        {
          "output_type": "execute_result",
          "data": {
            "text/html": [
              "<div>\n",
              "<style scoped>\n",
              "    .dataframe tbody tr th:only-of-type {\n",
              "        vertical-align: middle;\n",
              "    }\n",
              "\n",
              "    .dataframe tbody tr th {\n",
              "        vertical-align: top;\n",
              "    }\n",
              "\n",
              "    .dataframe thead th {\n",
              "        text-align: right;\n",
              "    }\n",
              "</style>\n",
              "<table border=\"1\" class=\"dataframe\">\n",
              "  <thead>\n",
              "    <tr style=\"text-align: right;\">\n",
              "      <th></th>\n",
              "      <th>Y Test</th>\n",
              "      <th>Pred</th>\n",
              "    </tr>\n",
              "  </thead>\n",
              "  <tbody>\n",
              "    <tr>\n",
              "      <th>8604</th>\n",
              "      <td>0.82</td>\n",
              "      <td>1.0299</td>\n",
              "    </tr>\n",
              "    <tr>\n",
              "      <th>2608</th>\n",
              "      <td>0.97</td>\n",
              "      <td>1.0081</td>\n",
              "    </tr>\n",
              "    <tr>\n",
              "      <th>14581</th>\n",
              "      <td>1.44</td>\n",
              "      <td>1.3710</td>\n",
              "    </tr>\n",
              "    <tr>\n",
              "      <th>4254</th>\n",
              "      <td>0.97</td>\n",
              "      <td>0.9133</td>\n",
              "    </tr>\n",
              "    <tr>\n",
              "      <th>16588</th>\n",
              "      <td>1.45</td>\n",
              "      <td>1.4685</td>\n",
              "    </tr>\n",
              "  </tbody>\n",
              "</table>\n",
              "</div>"
            ],
            "text/plain": [
              "       Y Test    Pred\n",
              "8604     0.82  1.0299\n",
              "2608     0.97  1.0081\n",
              "14581    1.44  1.3710\n",
              "4254     0.97  0.9133\n",
              "16588    1.45  1.4685"
            ]
          },
          "metadata": {
            "tags": []
          },
          "execution_count": 54
        },
        {
          "output_type": "display_data",
          "data": {
            "image/png": "[encoded data removed]",
            "text/plain": [
              "<Figure size 360x360 with 1 Axes>"
            ]
          },
          "metadata": {
            "tags": []
          }
        }
      ]
    }
  ]
}